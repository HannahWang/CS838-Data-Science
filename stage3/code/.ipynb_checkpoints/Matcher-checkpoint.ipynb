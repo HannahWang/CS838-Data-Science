{
 "cells": [
  {
   "cell_type": "markdown",
   "metadata": {},
   "source": [
    "# Introduction\n",
    "\n",
    "This notebook shows the steps of selecting adn debugging the matchers.\n",
    "We first import py_entitymatching and other required packages and load the tables A, B and G."
   ]
  },
  {
   "cell_type": "code",
   "execution_count": 1,
   "metadata": {
    "collapsed": true
   },
   "outputs": [],
   "source": [
    "import py_entitymatching as em\n",
    "import pandas as pd"
   ]
  },
  {
   "cell_type": "code",
   "execution_count": 2,
   "metadata": {},
   "outputs": [
    {
     "name": "stderr",
     "output_type": "stream",
     "text": [
      "Metadata file is not present in the given path; proceeding to read the csv file.\n",
      "Metadata file is not present in the given path; proceeding to read the csv file.\n",
      "Metadata file is not present in the given path; proceeding to read the csv file.\n"
     ]
    },
    {
     "name": "stdout",
     "output_type": "stream",
     "text": [
      "Table G with length 500\n"
     ]
    },
    {
     "data": {
      "text/html": [
       "<div>\n",
       "<style scoped>\n",
       "    .dataframe tbody tr th:only-of-type {\n",
       "        vertical-align: middle;\n",
       "    }\n",
       "\n",
       "    .dataframe tbody tr th {\n",
       "        vertical-align: top;\n",
       "    }\n",
       "\n",
       "    .dataframe thead th {\n",
       "        text-align: right;\n",
       "    }\n",
       "</style>\n",
       "<table border=\"1\" class=\"dataframe\">\n",
       "  <thead>\n",
       "    <tr style=\"text-align: right;\">\n",
       "      <th></th>\n",
       "      <th>_id</th>\n",
       "      <th>ltable_id</th>\n",
       "      <th>rtable_id</th>\n",
       "      <th>ltable_name</th>\n",
       "      <th>ltable_address</th>\n",
       "      <th>ltable_city</th>\n",
       "      <th>ltable_zipcode</th>\n",
       "      <th>ltable_phone</th>\n",
       "      <th>rtable_name</th>\n",
       "      <th>rtable_address</th>\n",
       "      <th>rtable_city</th>\n",
       "      <th>rtable_zipcode</th>\n",
       "      <th>rtable_phone</th>\n",
       "      <th>labe</th>\n",
       "    </tr>\n",
       "  </thead>\n",
       "  <tbody>\n",
       "    <tr>\n",
       "      <th>0</th>\n",
       "      <td>1</td>\n",
       "      <td>a1</td>\n",
       "      <td>b162</td>\n",
       "      <td>Hae Jang Chon Korean BBQ Restaurant</td>\n",
       "      <td>3821 W 6th St</td>\n",
       "      <td>Los Angeles</td>\n",
       "      <td>90020</td>\n",
       "      <td>2.133899e+09</td>\n",
       "      <td>Hae Jang Chon Korean BBQ Restaurant</td>\n",
       "      <td>3821 W 6th St</td>\n",
       "      <td>Los Angeles</td>\n",
       "      <td>90020.0</td>\n",
       "      <td>2.133899e+09</td>\n",
       "      <td>1</td>\n",
       "    </tr>\n",
       "    <tr>\n",
       "      <th>1</th>\n",
       "      <td>23</td>\n",
       "      <td>a2</td>\n",
       "      <td>b162</td>\n",
       "      <td>Kang Ho-dong Baekjeong</td>\n",
       "      <td>3465 W 6th St</td>\n",
       "      <td>Los Angeles</td>\n",
       "      <td>90020</td>\n",
       "      <td>2.133850e+09</td>\n",
       "      <td>Hae Jang Chon Korean BBQ Restaurant</td>\n",
       "      <td>3821 W 6th St</td>\n",
       "      <td>Los Angeles</td>\n",
       "      <td>90020.0</td>\n",
       "      <td>2.133899e+09</td>\n",
       "      <td>0</td>\n",
       "    </tr>\n",
       "    <tr>\n",
       "      <th>2</th>\n",
       "      <td>24</td>\n",
       "      <td>a2</td>\n",
       "      <td>b268</td>\n",
       "      <td>Kang Ho-dong Baekjeong</td>\n",
       "      <td>3465 W 6th St</td>\n",
       "      <td>Los Angeles</td>\n",
       "      <td>90020</td>\n",
       "      <td>2.133850e+09</td>\n",
       "      <td>Kang Hodong Baekjeong</td>\n",
       "      <td>3465 W 6th St</td>\n",
       "      <td>Los Angeles</td>\n",
       "      <td>90020.0</td>\n",
       "      <td>2.133850e+09</td>\n",
       "      <td>1</td>\n",
       "    </tr>\n",
       "    <tr>\n",
       "      <th>3</th>\n",
       "      <td>32</td>\n",
       "      <td>a2</td>\n",
       "      <td>b1987</td>\n",
       "      <td>Kang Ho-dong Baekjeong</td>\n",
       "      <td>3465 W 6th St</td>\n",
       "      <td>Los Angeles</td>\n",
       "      <td>90020</td>\n",
       "      <td>2.133850e+09</td>\n",
       "      <td>KangHoDong Baek Jeong</td>\n",
       "      <td>3465 W 6th St Ste 20</td>\n",
       "      <td>Los Angeles</td>\n",
       "      <td>90020.0</td>\n",
       "      <td>2.133850e+09</td>\n",
       "      <td>1</td>\n",
       "    </tr>\n",
       "    <tr>\n",
       "      <th>4</th>\n",
       "      <td>177</td>\n",
       "      <td>a37</td>\n",
       "      <td>b162</td>\n",
       "      <td>Hangari Bajirak Kalgooksoo</td>\n",
       "      <td>3470 W 6th St</td>\n",
       "      <td>Los Angeles</td>\n",
       "      <td>90020</td>\n",
       "      <td>2.133882e+09</td>\n",
       "      <td>Hae Jang Chon Korean BBQ Restaurant</td>\n",
       "      <td>3821 W 6th St</td>\n",
       "      <td>Los Angeles</td>\n",
       "      <td>90020.0</td>\n",
       "      <td>2.133899e+09</td>\n",
       "      <td>0</td>\n",
       "    </tr>\n",
       "  </tbody>\n",
       "</table>\n",
       "</div>"
      ],
      "text/plain": [
       "   _id ltable_id rtable_id                          ltable_name  \\\n",
       "0    1        a1      b162  Hae Jang Chon Korean BBQ Restaurant   \n",
       "1   23        a2      b162               Kang Ho-dong Baekjeong   \n",
       "2   24        a2      b268               Kang Ho-dong Baekjeong   \n",
       "3   32        a2     b1987               Kang Ho-dong Baekjeong   \n",
       "4  177       a37      b162           Hangari Bajirak Kalgooksoo   \n",
       "\n",
       "  ltable_address  ltable_city  ltable_zipcode  ltable_phone  \\\n",
       "0  3821 W 6th St  Los Angeles           90020  2.133899e+09   \n",
       "1  3465 W 6th St  Los Angeles           90020  2.133850e+09   \n",
       "2  3465 W 6th St  Los Angeles           90020  2.133850e+09   \n",
       "3  3465 W 6th St  Los Angeles           90020  2.133850e+09   \n",
       "4  3470 W 6th St  Los Angeles           90020  2.133882e+09   \n",
       "\n",
       "                           rtable_name        rtable_address  rtable_city  \\\n",
       "0  Hae Jang Chon Korean BBQ Restaurant         3821 W 6th St  Los Angeles   \n",
       "1  Hae Jang Chon Korean BBQ Restaurant         3821 W 6th St  Los Angeles   \n",
       "2                Kang Hodong Baekjeong         3465 W 6th St  Los Angeles   \n",
       "3                KangHoDong Baek Jeong  3465 W 6th St Ste 20  Los Angeles   \n",
       "4  Hae Jang Chon Korean BBQ Restaurant         3821 W 6th St  Los Angeles   \n",
       "\n",
       "   rtable_zipcode  rtable_phone  labe  \n",
       "0         90020.0  2.133899e+09     1  \n",
       "1         90020.0  2.133899e+09     0  \n",
       "2         90020.0  2.133850e+09     1  \n",
       "3         90020.0  2.133850e+09     1  \n",
       "4         90020.0  2.133899e+09     0  "
      ]
     },
     "execution_count": 2,
     "metadata": {},
     "output_type": "execute_result"
    }
   ],
   "source": [
    "A = em.read_csv_metadata('../data/A.csv', key='id')\n",
    "B = em.read_csv_metadata('../data/B.csv', key='id')\n",
    "# Load the labeled data\n",
    "G = em.read_csv_metadata('../data/S_labeled.csv', key='_id', \n",
    "                         ltable=A, rtable=B, fk_ltable='ltable_id', fk_rtable='rtable_id')\n",
    "\n",
    "print(\"Table G with length %d\" % len(G))\n",
    "G.head()"
   ]
  },
  {
   "cell_type": "code",
   "execution_count": 3,
   "metadata": {},
   "outputs": [
    {
     "name": "stderr",
     "output_type": "stream",
     "text": [
      "File already exists at ../data/I.csv; Overwriting it\n",
      "Metadata file already exists at ../data/I.metadata. Overwriting it\n",
      "File already exists at ../data/J.csv; Overwriting it\n",
      "Metadata file already exists at ../data/J.metadata. Overwriting it\n"
     ]
    },
    {
     "name": "stdout",
     "output_type": "stream",
     "text": [
      "length of I: 250\n",
      "length of J: 250\n"
     ]
    }
   ],
   "source": [
    "# Split G into I and J\n",
    "IJ = em.split_train_test(G, train_proportion=0.5, random_state=0)\n",
    "I = IJ['train']\n",
    "J = IJ['test']\n",
    "# Store I and J in csv format\n",
    "em.to_csv_metadata(I, '../data/I.csv')\n",
    "em.to_csv_metadata(J, '../data/J.csv')\n",
    "print('length of I: %d' % len(I))\n",
    "print('length of J: %d' % len(J))"
   ]
  },
  {
   "cell_type": "markdown",
   "metadata": {},
   "source": [
    "# Creating  a set of learning-based matchers\n",
    "\n",
    "We created the following matchers: (1) decision tree, (2) random forest, (3) naive bayes, (4) svm, (5) logistic regression, and (6) linear regression."
   ]
  },
  {
   "cell_type": "code",
   "execution_count": 4,
   "metadata": {
    "collapsed": true
   },
   "outputs": [],
   "source": [
    "# Create a set of ML-matchers\n",
    "dt = em.DTMatcher(name='DecisionTree', random_state=0)\n",
    "svm = em.SVMMatcher(name='SVM', random_state=0)\n",
    "rf = em.RFMatcher(name='RF', random_state=0)\n",
    "lg = em.LogRegMatcher(name='LogReg', random_state=0)\n",
    "ln = em.LinRegMatcher(name='LinReg')\n",
    "nb = em.NBMatcher(name='NaiveBayes')"
   ]
  },
  {
   "cell_type": "markdown",
   "metadata": {},
   "source": [
    "# Creating features\n",
    "\n",
    "Next, we selected the attributes, including name, category_1, category_2, address, city, zipcodw and phone, in the input tables, and automatically generated features by py_entitymatching built-in function."
   ]
  },
  {
   "cell_type": "code",
   "execution_count": 5,
   "metadata": {},
   "outputs": [
    {
     "name": "stdout",
     "output_type": "stream",
     "text": [
      "Magellan generated the following 48 features\n"
     ]
    },
    {
     "data": {
      "text/plain": [
       "0                     name_name_jac_qgm_3_qgm_3\n",
       "1                 name_name_cos_dlm_dc0_dlm_dc0\n",
       "2                 name_name_jac_dlm_dc0_dlm_dc0\n",
       "3                                 name_name_mel\n",
       "4                            name_name_lev_dist\n",
       "5                             name_name_lev_sim\n",
       "6                                 name_name_nmw\n",
       "7                                  name_name_sw\n",
       "8         category_1_category_1_jac_qgm_3_qgm_3\n",
       "9     category_1_category_1_cos_dlm_dc0_dlm_dc0\n",
       "10    category_1_category_1_jac_dlm_dc0_dlm_dc0\n",
       "11                    category_1_category_1_mel\n",
       "12               category_1_category_1_lev_dist\n",
       "13                category_1_category_1_lev_sim\n",
       "14                    category_1_category_1_nmw\n",
       "15                     category_1_category_1_sw\n",
       "16        category_2_category_2_jac_qgm_3_qgm_3\n",
       "17    category_2_category_2_cos_dlm_dc0_dlm_dc0\n",
       "18    category_2_category_2_jac_dlm_dc0_dlm_dc0\n",
       "19                    category_2_category_2_mel\n",
       "20               category_2_category_2_lev_dist\n",
       "21                category_2_category_2_lev_sim\n",
       "22                    category_2_category_2_nmw\n",
       "23                     category_2_category_2_sw\n",
       "24              address_address_jac_qgm_3_qgm_3\n",
       "25          address_address_cos_dlm_dc0_dlm_dc0\n",
       "26          address_address_jac_dlm_dc0_dlm_dc0\n",
       "27                          address_address_mel\n",
       "28                     address_address_lev_dist\n",
       "29                      address_address_lev_sim\n",
       "30                          address_address_nmw\n",
       "31                           address_address_sw\n",
       "32                    city_city_jac_qgm_3_qgm_3\n",
       "33                city_city_cos_dlm_dc0_dlm_dc0\n",
       "34                city_city_jac_dlm_dc0_dlm_dc0\n",
       "35                                city_city_mel\n",
       "36                           city_city_lev_dist\n",
       "37                            city_city_lev_sim\n",
       "38                                city_city_nmw\n",
       "39                                 city_city_sw\n",
       "40                          zipcode_zipcode_exm\n",
       "41                          zipcode_zipcode_anm\n",
       "42                     zipcode_zipcode_lev_dist\n",
       "43                      zipcode_zipcode_lev_sim\n",
       "44                              phone_phone_exm\n",
       "45                              phone_phone_anm\n",
       "46                         phone_phone_lev_dist\n",
       "47                          phone_phone_lev_sim\n",
       "Name: feature_name, dtype: object"
      ]
     },
     "execution_count": 5,
     "metadata": {},
     "output_type": "execute_result"
    }
   ],
   "source": [
    "# Generate a set of features\n",
    "F = em.get_features_for_matching(A.iloc[:, 1:8], B.iloc[:, 1:8], validate_inferred_attr_types=False)\n",
    "\n",
    "# Show the generated features\n",
    "print(\"Magellan generated the following %s features\" % len(F))\n",
    "F.feature_name"
   ]
  },
  {
   "cell_type": "markdown",
   "metadata": {},
   "source": [
    "# Extracting feature vectors\n",
    "\n",
    "We then extracted feature vectors using the development set (I) created features."
   ]
  },
  {
   "cell_type": "code",
   "execution_count": 6,
   "metadata": {},
   "outputs": [
    {
     "name": "stdout",
     "output_type": "stream",
     "text": [
      "The table of feature vecors:\n"
     ]
    },
    {
     "data": {
      "text/html": [
       "<div>\n",
       "<style scoped>\n",
       "    .dataframe tbody tr th:only-of-type {\n",
       "        vertical-align: middle;\n",
       "    }\n",
       "\n",
       "    .dataframe tbody tr th {\n",
       "        vertical-align: top;\n",
       "    }\n",
       "\n",
       "    .dataframe thead th {\n",
       "        text-align: right;\n",
       "    }\n",
       "</style>\n",
       "<table border=\"1\" class=\"dataframe\">\n",
       "  <thead>\n",
       "    <tr style=\"text-align: right;\">\n",
       "      <th></th>\n",
       "      <th>_id</th>\n",
       "      <th>ltable_id</th>\n",
       "      <th>rtable_id</th>\n",
       "      <th>name_name_jac_qgm_3_qgm_3</th>\n",
       "      <th>name_name_cos_dlm_dc0_dlm_dc0</th>\n",
       "      <th>name_name_jac_dlm_dc0_dlm_dc0</th>\n",
       "      <th>name_name_mel</th>\n",
       "      <th>name_name_lev_dist</th>\n",
       "      <th>name_name_lev_sim</th>\n",
       "      <th>name_name_nmw</th>\n",
       "      <th>...</th>\n",
       "      <th>city_city_sw</th>\n",
       "      <th>zipcode_zipcode_exm</th>\n",
       "      <th>zipcode_zipcode_anm</th>\n",
       "      <th>zipcode_zipcode_lev_dist</th>\n",
       "      <th>zipcode_zipcode_lev_sim</th>\n",
       "      <th>phone_phone_exm</th>\n",
       "      <th>phone_phone_anm</th>\n",
       "      <th>phone_phone_lev_dist</th>\n",
       "      <th>phone_phone_lev_sim</th>\n",
       "      <th>labe</th>\n",
       "    </tr>\n",
       "  </thead>\n",
       "  <tbody>\n",
       "    <tr>\n",
       "      <th>476</th>\n",
       "      <td>842418</td>\n",
       "      <td>a1853</td>\n",
       "      <td>b1255</td>\n",
       "      <td>0.125000</td>\n",
       "      <td>0.353553</td>\n",
       "      <td>0.200</td>\n",
       "      <td>0.723671</td>\n",
       "      <td>18.0</td>\n",
       "      <td>0.217391</td>\n",
       "      <td>-9.0</td>\n",
       "      <td>...</td>\n",
       "      <td>1.0</td>\n",
       "      <td>NaN</td>\n",
       "      <td>NaN</td>\n",
       "      <td>NaN</td>\n",
       "      <td>NaN</td>\n",
       "      <td>NaN</td>\n",
       "      <td>NaN</td>\n",
       "      <td>NaN</td>\n",
       "      <td>NaN</td>\n",
       "      <td>0</td>\n",
       "    </tr>\n",
       "    <tr>\n",
       "      <th>162</th>\n",
       "      <td>36618</td>\n",
       "      <td>a1400</td>\n",
       "      <td>b2392</td>\n",
       "      <td>1.000000</td>\n",
       "      <td>1.000000</td>\n",
       "      <td>1.000</td>\n",
       "      <td>1.000000</td>\n",
       "      <td>0.0</td>\n",
       "      <td>1.000000</td>\n",
       "      <td>9.0</td>\n",
       "      <td>...</td>\n",
       "      <td>11.0</td>\n",
       "      <td>1.0</td>\n",
       "      <td>1.0</td>\n",
       "      <td>0.0</td>\n",
       "      <td>1.0</td>\n",
       "      <td>1.0</td>\n",
       "      <td>1.000000</td>\n",
       "      <td>0.0</td>\n",
       "      <td>1.000000</td>\n",
       "      <td>1</td>\n",
       "    </tr>\n",
       "    <tr>\n",
       "      <th>34</th>\n",
       "      <td>3380</td>\n",
       "      <td>a2092</td>\n",
       "      <td>b1024</td>\n",
       "      <td>0.157895</td>\n",
       "      <td>0.333333</td>\n",
       "      <td>0.200</td>\n",
       "      <td>0.642839</td>\n",
       "      <td>13.0</td>\n",
       "      <td>0.409091</td>\n",
       "      <td>5.0</td>\n",
       "      <td>...</td>\n",
       "      <td>11.0</td>\n",
       "      <td>1.0</td>\n",
       "      <td>1.0</td>\n",
       "      <td>0.0</td>\n",
       "      <td>1.0</td>\n",
       "      <td>0.0</td>\n",
       "      <td>0.999814</td>\n",
       "      <td>5.0</td>\n",
       "      <td>0.583333</td>\n",
       "      <td>0</td>\n",
       "    </tr>\n",
       "    <tr>\n",
       "      <th>44</th>\n",
       "      <td>5763</td>\n",
       "      <td>a53</td>\n",
       "      <td>b42</td>\n",
       "      <td>1.000000</td>\n",
       "      <td>1.000000</td>\n",
       "      <td>1.000</td>\n",
       "      <td>1.000000</td>\n",
       "      <td>0.0</td>\n",
       "      <td>1.000000</td>\n",
       "      <td>5.0</td>\n",
       "      <td>...</td>\n",
       "      <td>11.0</td>\n",
       "      <td>1.0</td>\n",
       "      <td>1.0</td>\n",
       "      <td>0.0</td>\n",
       "      <td>1.0</td>\n",
       "      <td>1.0</td>\n",
       "      <td>1.000000</td>\n",
       "      <td>0.0</td>\n",
       "      <td>1.000000</td>\n",
       "      <td>1</td>\n",
       "    </tr>\n",
       "    <tr>\n",
       "      <th>97</th>\n",
       "      <td>14717</td>\n",
       "      <td>a1050</td>\n",
       "      <td>b599</td>\n",
       "      <td>0.090909</td>\n",
       "      <td>0.235702</td>\n",
       "      <td>0.125</td>\n",
       "      <td>0.410256</td>\n",
       "      <td>22.0</td>\n",
       "      <td>0.153846</td>\n",
       "      <td>-4.0</td>\n",
       "      <td>...</td>\n",
       "      <td>11.0</td>\n",
       "      <td>1.0</td>\n",
       "      <td>1.0</td>\n",
       "      <td>0.0</td>\n",
       "      <td>1.0</td>\n",
       "      <td>0.0</td>\n",
       "      <td>1.000000</td>\n",
       "      <td>5.0</td>\n",
       "      <td>0.583333</td>\n",
       "      <td>0</td>\n",
       "    </tr>\n",
       "  </tbody>\n",
       "</table>\n",
       "<p>5 rows × 52 columns</p>\n",
       "</div>"
      ],
      "text/plain": [
       "        _id ltable_id rtable_id  name_name_jac_qgm_3_qgm_3  \\\n",
       "476  842418     a1853     b1255                   0.125000   \n",
       "162   36618     a1400     b2392                   1.000000   \n",
       "34     3380     a2092     b1024                   0.157895   \n",
       "44     5763       a53       b42                   1.000000   \n",
       "97    14717     a1050      b599                   0.090909   \n",
       "\n",
       "     name_name_cos_dlm_dc0_dlm_dc0  name_name_jac_dlm_dc0_dlm_dc0  \\\n",
       "476                       0.353553                          0.200   \n",
       "162                       1.000000                          1.000   \n",
       "34                        0.333333                          0.200   \n",
       "44                        1.000000                          1.000   \n",
       "97                        0.235702                          0.125   \n",
       "\n",
       "     name_name_mel  name_name_lev_dist  name_name_lev_sim  name_name_nmw  \\\n",
       "476       0.723671                18.0           0.217391           -9.0   \n",
       "162       1.000000                 0.0           1.000000            9.0   \n",
       "34        0.642839                13.0           0.409091            5.0   \n",
       "44        1.000000                 0.0           1.000000            5.0   \n",
       "97        0.410256                22.0           0.153846           -4.0   \n",
       "\n",
       "     ...   city_city_sw  zipcode_zipcode_exm  zipcode_zipcode_anm  \\\n",
       "476  ...            1.0                  NaN                  NaN   \n",
       "162  ...           11.0                  1.0                  1.0   \n",
       "34   ...           11.0                  1.0                  1.0   \n",
       "44   ...           11.0                  1.0                  1.0   \n",
       "97   ...           11.0                  1.0                  1.0   \n",
       "\n",
       "     zipcode_zipcode_lev_dist  zipcode_zipcode_lev_sim  phone_phone_exm  \\\n",
       "476                       NaN                      NaN              NaN   \n",
       "162                       0.0                      1.0              1.0   \n",
       "34                        0.0                      1.0              0.0   \n",
       "44                        0.0                      1.0              1.0   \n",
       "97                        0.0                      1.0              0.0   \n",
       "\n",
       "     phone_phone_anm  phone_phone_lev_dist  phone_phone_lev_sim  labe  \n",
       "476              NaN                   NaN                  NaN     0  \n",
       "162         1.000000                   0.0             1.000000     1  \n",
       "34          0.999814                   5.0             0.583333     0  \n",
       "44          1.000000                   0.0             1.000000     1  \n",
       "97          1.000000                   5.0             0.583333     0  \n",
       "\n",
       "[5 rows x 52 columns]"
      ]
     },
     "execution_count": 6,
     "metadata": {},
     "output_type": "execute_result"
    }
   ],
   "source": [
    "# Convert the I into a set of feature vectors using F\n",
    "H = em.extract_feature_vecs(I, \n",
    "                            feature_table=F, \n",
    "                            attrs_after='labe',\n",
    "                            show_progress=False)\n",
    "print('The table of feature vecors:')\n",
    "H.head()"
   ]
  },
  {
   "cell_type": "code",
   "execution_count": 7,
   "metadata": {},
   "outputs": [
    {
     "data": {
      "text/plain": [
       "True"
      ]
     },
     "execution_count": 7,
     "metadata": {},
     "output_type": "execute_result"
    }
   ],
   "source": [
    "# Check if the feature vectors contain missing values\n",
    "any(pd.notnull(H))"
   ]
  },
  {
   "cell_type": "markdown",
   "metadata": {},
   "source": [
    "We observed that the extracted feature vectors contain missing values. Thus, We have to impute the missing values for the learning-based matchers to fit the model correctly. Here, we impute the missing value in a column with the mean of the values in that column."
   ]
  },
  {
   "cell_type": "code",
   "execution_count": 8,
   "metadata": {
    "collapsed": true
   },
   "outputs": [],
   "source": [
    "# Impute feature vectors with the mean of the column values.\n",
    "H = em.impute_table(H, \n",
    "                exclude_attrs=['_id', 'ltable_id', 'rtable_id', 'labe'],\n",
    "                strategy='mean')"
   ]
  },
  {
   "cell_type": "markdown",
   "metadata": {},
   "source": [
    "# Selecting the best matcher using cross-validation\n",
    "\n",
    "Now, we selected the best matcher using 5-fold cross-validation and used 'precision' metric to select the best matcher."
   ]
  },
  {
   "cell_type": "code",
   "execution_count": 9,
   "metadata": {},
   "outputs": [
    {
     "data": {
      "text/html": [
       "<div>\n",
       "<style scoped>\n",
       "    .dataframe tbody tr th:only-of-type {\n",
       "        vertical-align: middle;\n",
       "    }\n",
       "\n",
       "    .dataframe tbody tr th {\n",
       "        vertical-align: top;\n",
       "    }\n",
       "\n",
       "    .dataframe thead th {\n",
       "        text-align: right;\n",
       "    }\n",
       "</style>\n",
       "<table border=\"1\" class=\"dataframe\">\n",
       "  <thead>\n",
       "    <tr style=\"text-align: right;\">\n",
       "      <th></th>\n",
       "      <th>Matcher</th>\n",
       "      <th>Average precision</th>\n",
       "      <th>Average recall</th>\n",
       "      <th>Average f1</th>\n",
       "    </tr>\n",
       "  </thead>\n",
       "  <tbody>\n",
       "    <tr>\n",
       "      <th>0</th>\n",
       "      <td>DecisionTree</td>\n",
       "      <td>0.946289</td>\n",
       "      <td>0.962761</td>\n",
       "      <td>0.953599</td>\n",
       "    </tr>\n",
       "    <tr>\n",
       "      <th>1</th>\n",
       "      <td>RF</td>\n",
       "      <td>0.969858</td>\n",
       "      <td>0.979259</td>\n",
       "      <td>0.974203</td>\n",
       "    </tr>\n",
       "    <tr>\n",
       "      <th>2</th>\n",
       "      <td>SVM</td>\n",
       "      <td>0.895076</td>\n",
       "      <td>0.942678</td>\n",
       "      <td>0.915440</td>\n",
       "    </tr>\n",
       "    <tr>\n",
       "      <th>3</th>\n",
       "      <td>LinReg</td>\n",
       "      <td>0.977000</td>\n",
       "      <td>0.971852</td>\n",
       "      <td>0.974205</td>\n",
       "    </tr>\n",
       "    <tr>\n",
       "      <th>4</th>\n",
       "      <td>LogReg</td>\n",
       "      <td>0.960386</td>\n",
       "      <td>0.949428</td>\n",
       "      <td>0.953793</td>\n",
       "    </tr>\n",
       "    <tr>\n",
       "      <th>5</th>\n",
       "      <td>NaiveBayes</td>\n",
       "      <td>0.985185</td>\n",
       "      <td>0.951852</td>\n",
       "      <td>0.966864</td>\n",
       "    </tr>\n",
       "  </tbody>\n",
       "</table>\n",
       "</div>"
      ],
      "text/plain": [
       "        Matcher  Average precision  Average recall  Average f1\n",
       "0  DecisionTree           0.946289        0.962761    0.953599\n",
       "1            RF           0.969858        0.979259    0.974203\n",
       "2           SVM           0.895076        0.942678    0.915440\n",
       "3        LinReg           0.977000        0.971852    0.974205\n",
       "4        LogReg           0.960386        0.949428    0.953793\n",
       "5    NaiveBayes           0.985185        0.951852    0.966864"
      ]
     },
     "execution_count": 9,
     "metadata": {},
     "output_type": "execute_result"
    }
   ],
   "source": [
    "# Select the best ML matcher using CV\n",
    "result = em.select_matcher([dt, rf, svm, ln, lg, nb], table=H, \n",
    "        exclude_attrs=['_id', 'ltable_id', 'rtable_id', 'labe'],\n",
    "        k=5,\n",
    "        target_attr='labe', metric_to_select_matcher='f1', random_state=0)\n",
    "result['cv_stats']"
   ]
  },
  {
   "cell_type": "markdown",
   "metadata": {},
   "source": [
    "# Debug matcher (Naive Bayes)\n",
    "\n",
    "In this step, we choosed the best matcher -- Naive Bayes -- based on precision score, and tested the extra feature related to price and rating. "
   ]
  },
  {
   "cell_type": "code",
   "execution_count": 10,
   "metadata": {},
   "outputs": [
    {
     "data": {
      "text/plain": [
       "True"
      ]
     },
     "execution_count": 10,
     "metadata": {},
     "output_type": "execute_result"
    }
   ],
   "source": [
    "# Split H into P and Q\n",
    "PQ = em.split_train_test(H, train_proportion=0.5, random_state=0)\n",
    "P = PQ['train']\n",
    "Q = PQ['test']\n",
    "\n",
    "# Create a feature on the value of (price + rating), then compute Levenshtein similarity\n",
    "sim = em.get_sim_funs_for_matching()\n",
    "tok = em.get_tokenizers_for_matching()\n",
    "feature_string = \"\"\"lev_sim(wspace(float(ltuple['price']) + float(ltuple['rating'])), \n",
    "                            wspace(float(rtuple['price']) + float(rtuple['rating'])))\"\"\"\n",
    "feature = em.get_feature_fn(feature_string, sim, tok)\n",
    "\n",
    "# Add feature to F\n",
    "em.add_feature(F, 'lev_ws_price+rating', feature)"
   ]
  },
  {
   "cell_type": "code",
   "execution_count": 11,
   "metadata": {},
   "outputs": [
    {
     "name": "stderr",
     "output_type": "stream",
     "text": [
      "0% [##############################] 100% | ETA: 00:00:00\n",
      "Total time elapsed: 00:00:00\n"
     ]
    },
    {
     "name": "stdout",
     "output_type": "stream",
     "text": [
      "NaiveBayes\n",
      "Precision : 100.0% (58/58)\n",
      "Recall : 89.23% (58/65)\n",
      "F1 : 94.31%\n",
      "False positives : 0 (out of 58 positive predictions)\n",
      "False negatives : 7 (out of 67 negative predictions)\n"
     ]
    }
   ],
   "source": [
    "# Train using feature vectors from P\n",
    "Pf = em.extract_feature_vecs(P, feature_table=F, attrs_after='labe',show_progress=False)\n",
    "Pf = em.impute_table(Pf, \n",
    "                exclude_attrs=['_id', 'ltable_id', 'rtable_id', 'labe'],\n",
    "                strategy='mean')\n",
    "\n",
    "# Train using feature vectors from P\n",
    "matcher = nb\n",
    "name = 'NaiveBayes'\n",
    "matcher.fit(table=Pf, \n",
    "       exclude_attrs=['_id', 'ltable_id', 'rtable_id', 'labe'], \n",
    "       target_attr='labe')\n",
    "\n",
    "# Convert Q into a set of feature vectors using F\n",
    "Qf = em.extract_feature_vecs(Q, feature_table=F, attrs_after=['labe'])\n",
    "Qf = em.impute_table(Qf, \n",
    "                exclude_attrs=['_id', 'ltable_id', 'rtable_id', 'labe'],\n",
    "                strategy='mean')\n",
    "\n",
    "# Predict\n",
    "predictions = matcher.predict(table=Qf, exclude_attrs=['_id', 'ltable_id', 'rtable_id', 'labe'], \n",
    "              append=True, target_attr='predicted', inplace=False)\n",
    "\n",
    "# Evaluate the predictions\n",
    "eval_result = em.eval_matches(predictions, 'labe', 'predicted')\n",
    "print(name)\n",
    "em.print_eval_summary(eval_result)\n",
    "eval_summary = em.eval_matches(predictions, 'labe', 'predicted')\n"
   ]
  },
  {
   "cell_type": "markdown",
   "metadata": {},
   "source": [
    "### Selecting the best matcher agaian with the new feature set\n",
    "We observed that the new feature set with extra feature could improve the precision of Naive Bayes matcher.\n",
    "we then tested the new feature set on 6 matchers with cross validation.\n",
    "The best matcher is still the Naive Bayes matcher."
   ]
  },
  {
   "cell_type": "code",
   "execution_count": 12,
   "metadata": {},
   "outputs": [
    {
     "data": {
      "text/html": [
       "<div>\n",
       "<style scoped>\n",
       "    .dataframe tbody tr th:only-of-type {\n",
       "        vertical-align: middle;\n",
       "    }\n",
       "\n",
       "    .dataframe tbody tr th {\n",
       "        vertical-align: top;\n",
       "    }\n",
       "\n",
       "    .dataframe thead th {\n",
       "        text-align: right;\n",
       "    }\n",
       "</style>\n",
       "<table border=\"1\" class=\"dataframe\">\n",
       "  <thead>\n",
       "    <tr style=\"text-align: right;\">\n",
       "      <th></th>\n",
       "      <th>Matcher</th>\n",
       "      <th>Average precision</th>\n",
       "      <th>Average recall</th>\n",
       "      <th>Average f1</th>\n",
       "    </tr>\n",
       "  </thead>\n",
       "  <tbody>\n",
       "    <tr>\n",
       "      <th>0</th>\n",
       "      <td>DecisionTree</td>\n",
       "      <td>0.960696</td>\n",
       "      <td>0.962761</td>\n",
       "      <td>0.961258</td>\n",
       "    </tr>\n",
       "    <tr>\n",
       "      <th>1</th>\n",
       "      <td>RF</td>\n",
       "      <td>0.976623</td>\n",
       "      <td>0.963502</td>\n",
       "      <td>0.969706</td>\n",
       "    </tr>\n",
       "    <tr>\n",
       "      <th>2</th>\n",
       "      <td>SVM</td>\n",
       "      <td>0.893651</td>\n",
       "      <td>0.933587</td>\n",
       "      <td>0.910848</td>\n",
       "    </tr>\n",
       "    <tr>\n",
       "      <th>3</th>\n",
       "      <td>LinReg</td>\n",
       "      <td>0.977000</td>\n",
       "      <td>0.971852</td>\n",
       "      <td>0.974205</td>\n",
       "    </tr>\n",
       "    <tr>\n",
       "      <th>4</th>\n",
       "      <td>LogReg</td>\n",
       "      <td>0.960386</td>\n",
       "      <td>0.949428</td>\n",
       "      <td>0.953793</td>\n",
       "    </tr>\n",
       "    <tr>\n",
       "      <th>5</th>\n",
       "      <td>NaiveBayes</td>\n",
       "      <td>0.985185</td>\n",
       "      <td>0.951852</td>\n",
       "      <td>0.966864</td>\n",
       "    </tr>\n",
       "  </tbody>\n",
       "</table>\n",
       "</div>"
      ],
      "text/plain": [
       "        Matcher  Average precision  Average recall  Average f1\n",
       "0  DecisionTree           0.960696        0.962761    0.961258\n",
       "1            RF           0.976623        0.963502    0.969706\n",
       "2           SVM           0.893651        0.933587    0.910848\n",
       "3        LinReg           0.977000        0.971852    0.974205\n",
       "4        LogReg           0.960386        0.949428    0.953793\n",
       "5    NaiveBayes           0.985185        0.951852    0.966864"
      ]
     },
     "execution_count": 12,
     "metadata": {},
     "output_type": "execute_result"
    }
   ],
   "source": [
    "# Convert I into feature vectors using updated F\n",
    "H = em.extract_feature_vecs(I, \n",
    "                            feature_table=F, \n",
    "                            attrs_after='labe',\n",
    "                            show_progress=False)\n",
    "H = em.impute_table(H, \n",
    "                exclude_attrs=['_id', 'ltable_id', 'rtable_id', 'labe'],\n",
    "                strategy='mean')\n",
    "\n",
    "# Select the best matcher again using CV\n",
    "result = em.select_matcher([dt, rf, svm, ln, lg, nb], table=H, \n",
    "        exclude_attrs=['_id', 'ltable_id', 'rtable_id', 'labe'],\n",
    "        k=5,\n",
    "        target_attr='labe', metric_to_select_matcher='f1', random_state=0)\n",
    "result['cv_stats']"
   ]
  },
  {
   "cell_type": "markdown",
   "metadata": {},
   "source": [
    "# Test the matchers on testing set (J)\n",
    "\n",
    "Next, we trained the 6 matchers with new feature vectors generated from set I and debugging step, and tested on set J.\n",
    "The following is the resuslt of each matcher:\n",
    "\n",
    "\n",
    "## Decision Tree"
   ]
  },
  {
   "cell_type": "code",
   "execution_count": 13,
   "metadata": {},
   "outputs": [
    {
     "name": "stdout",
     "output_type": "stream",
     "text": [
      "DecisionTree\n",
      "Precision : 91.18% (124/136)\n",
      "Recall : 95.38% (124/130)\n",
      "F1 : 93.23%\n",
      "False positives : 12 (out of 136 positive predictions)\n",
      "False negatives : 6 (out of 114 negative predictions)\n"
     ]
    }
   ],
   "source": [
    "# decision tree\n",
    "matcher = dt\n",
    "name = 'DecisionTree'\n",
    "\n",
    "matcher.fit(table=H, \n",
    "       exclude_attrs=['_id', 'ltable_id', 'rtable_id', 'labe'], \n",
    "       target_attr='labe')\n",
    "\n",
    "Ht = em.extract_feature_vecs(J, \n",
    "                            feature_table=F, \n",
    "                            attrs_after='labe',\n",
    "                            show_progress=False)\n",
    "Ht = em.impute_table(Ht, \n",
    "                exclude_attrs=['_id', 'ltable_id', 'rtable_id', 'labe'],\n",
    "                strategy='mean')\n",
    "\n",
    "# Predict\n",
    "predictions = matcher.predict(table=Ht, exclude_attrs=['_id', 'ltable_id', 'rtable_id', 'labe'], \n",
    "              append=True, target_attr='predicted', inplace=False)\n",
    "\n",
    "# Evaluate the predictions\n",
    "eval_result = em.eval_matches(predictions, 'labe', 'predicted')\n",
    "print(name)\n",
    "em.print_eval_summary(eval_result)\n",
    "eval_summary = em.eval_matches(predictions, 'labe', 'predicted')"
   ]
  },
  {
   "cell_type": "markdown",
   "metadata": {},
   "source": [
    "## SVM "
   ]
  },
  {
   "cell_type": "code",
   "execution_count": 14,
   "metadata": {},
   "outputs": [
    {
     "name": "stdout",
     "output_type": "stream",
     "text": [
      "SVM\n",
      "Precision : 88.32% (121/137)\n",
      "Recall : 93.08% (121/130)\n",
      "F1 : 90.64%\n",
      "False positives : 16 (out of 137 positive predictions)\n",
      "False negatives : 9 (out of 113 negative predictions)\n"
     ]
    }
   ],
   "source": [
    "# SVM\n",
    "matcher = svm\n",
    "name = 'SVM'\n",
    "\n",
    "matcher.fit(table=H, \n",
    "       exclude_attrs=['_id', 'ltable_id', 'rtable_id', 'labe'], \n",
    "       target_attr='labe')\n",
    "\n",
    "# Predict\n",
    "predictions = matcher.predict(table=Ht, exclude_attrs=['_id', 'ltable_id', 'rtable_id', 'labe'], \n",
    "              append=True, target_attr='predicted', inplace=False)\n",
    "\n",
    "# Evaluate the predictions\n",
    "eval_result = em.eval_matches(predictions, 'labe', 'predicted')\n",
    "print(name)\n",
    "em.print_eval_summary(eval_result)\n",
    "eval_summary = em.eval_matches(predictions, 'labe', 'predicted')"
   ]
  },
  {
   "cell_type": "markdown",
   "metadata": {},
   "source": [
    "## Random Forest"
   ]
  },
  {
   "cell_type": "code",
   "execution_count": 15,
   "metadata": {},
   "outputs": [
    {
     "name": "stdout",
     "output_type": "stream",
     "text": [
      "RandomForest\n",
      "Precision : 94.53% (121/128)\n",
      "Recall : 93.08% (121/130)\n",
      "F1 : 93.8%\n",
      "False positives : 7 (out of 128 positive predictions)\n",
      "False negatives : 9 (out of 122 negative predictions)\n"
     ]
    }
   ],
   "source": [
    "# Random Forest\n",
    "matcher = rf\n",
    "name = 'RandomForest'\n",
    "\n",
    "matcher.fit(table=H, \n",
    "       exclude_attrs=['_id', 'ltable_id', 'rtable_id', 'labe'], \n",
    "       target_attr='labe')\n",
    "\n",
    "# Predict\n",
    "predictions = matcher.predict(table=Ht, exclude_attrs=['_id', 'ltable_id', 'rtable_id', 'labe'], \n",
    "              append=True, target_attr='predicted', inplace=False)\n",
    "\n",
    "# Evaluate the predictions\n",
    "eval_result = em.eval_matches(predictions, 'labe', 'predicted')\n",
    "print(name)\n",
    "em.print_eval_summary(eval_result)\n",
    "eval_summary = em.eval_matches(predictions, 'labe', 'predicted')"
   ]
  },
  {
   "cell_type": "markdown",
   "metadata": {},
   "source": [
    "## Naive Bayes"
   ]
  },
  {
   "cell_type": "code",
   "execution_count": 16,
   "metadata": {},
   "outputs": [
    {
     "name": "stdout",
     "output_type": "stream",
     "text": [
      "NaiveBayes\n",
      "Precision : 97.6% (122/125)\n",
      "Recall : 93.85% (122/130)\n",
      "F1 : 95.69%\n",
      "False positives : 3 (out of 125 positive predictions)\n",
      "False negatives : 8 (out of 125 negative predictions)\n"
     ]
    }
   ],
   "source": [
    "matcher = nb\n",
    "name = 'NaiveBayes'\n",
    "\n",
    "matcher.fit(table=H, \n",
    "       exclude_attrs=['_id', 'ltable_id', 'rtable_id', 'labe'], \n",
    "       target_attr='labe')\n",
    "\n",
    "# Predict\n",
    "predictions = matcher.predict(table=Ht, exclude_attrs=['_id', 'ltable_id', 'rtable_id', 'labe'], \n",
    "              append=True, target_attr='predicted', inplace=False)\n",
    "\n",
    "# Evaluate the predictions\n",
    "eval_result = em.eval_matches(predictions, 'labe', 'predicted')\n",
    "print(name)\n",
    "em.print_eval_summary(eval_result)\n",
    "eval_summary = em.eval_matches(predictions, 'labe', 'predicted')"
   ]
  },
  {
   "cell_type": "markdown",
   "metadata": {},
   "source": [
    "## Logistic Regression "
   ]
  },
  {
   "cell_type": "code",
   "execution_count": 17,
   "metadata": {},
   "outputs": [
    {
     "name": "stdout",
     "output_type": "stream",
     "text": [
      "LogReg\n",
      "Precision : 96.0% (120/125)\n",
      "Recall : 92.31% (120/130)\n",
      "F1 : 94.12%\n",
      "False positives : 5 (out of 125 positive predictions)\n",
      "False negatives : 10 (out of 125 negative predictions)\n"
     ]
    }
   ],
   "source": [
    "matcher = lg\n",
    "name = 'LogReg'\n",
    "\n",
    "matcher.fit(table=H, \n",
    "       exclude_attrs=['_id', 'ltable_id', 'rtable_id', 'labe'], \n",
    "       target_attr='labe')\n",
    "\n",
    "# Predict\n",
    "predictions = matcher.predict(table=Ht, exclude_attrs=['_id', 'ltable_id', 'rtable_id', 'labe'], \n",
    "              append=True, target_attr='predicted', inplace=False)\n",
    "\n",
    "# Evaluate the predictions\n",
    "eval_result = em.eval_matches(predictions, 'labe', 'predicted')\n",
    "print(name)\n",
    "em.print_eval_summary(eval_result)\n",
    "eval_summary = em.eval_matches(predictions, 'labe', 'predicted')"
   ]
  },
  {
   "cell_type": "markdown",
   "metadata": {},
   "source": [
    "## Linear Regression"
   ]
  },
  {
   "cell_type": "code",
   "execution_count": 18,
   "metadata": {},
   "outputs": [
    {
     "name": "stdout",
     "output_type": "stream",
     "text": [
      "LinReg\n",
      "Precision : 97.64% (124/127)\n",
      "Recall : 95.38% (124/130)\n",
      "F1 : 96.5%\n",
      "False positives : 3 (out of 127 positive predictions)\n",
      "False negatives : 6 (out of 123 negative predictions)\n"
     ]
    }
   ],
   "source": [
    "matcher = ln\n",
    "name = 'LinReg'\n",
    "\n",
    "matcher.fit(table=H, \n",
    "       exclude_attrs=['_id', 'ltable_id', 'rtable_id', 'labe'], \n",
    "       target_attr='labe')\n",
    "\n",
    "# Predict\n",
    "predictions = matcher.predict(table=Ht, exclude_attrs=['_id', 'ltable_id', 'rtable_id', 'labe'], \n",
    "              append=True, target_attr='predicted', inplace=False)\n",
    "\n",
    "# Evaluate the predictions\n",
    "eval_result = em.eval_matches(predictions, 'labe', 'predicted')\n",
    "print(name)\n",
    "em.print_eval_summary(eval_result)\n",
    "eval_summary = em.eval_matches(predictions, 'labe', 'predicted')"
   ]
  },
  {
   "cell_type": "markdown",
   "metadata": {},
   "source": [
    "## Test Results\n",
    "\n",
    "From the results above, we observed that the <b>Naive Bayes</b> (precision 97.6%) and the <b>Linear Regression</b> (precision 97.6%) have the best performance compared with precision score, while the <b>Linear Regression</b> matcher has the better recall and F1."
   ]
  },
  {
   "cell_type": "code",
   "execution_count": null,
   "metadata": {
    "collapsed": true
   },
   "outputs": [],
   "source": []
  }
 ],
 "metadata": {
  "kernelspec": {
   "display_name": "Python 2",
   "language": "python",
   "name": "python2"
  },
  "language_info": {
   "codemirror_mode": {
    "name": "ipython",
    "version": 2
   },
   "file_extension": ".py",
   "mimetype": "text/x-python",
   "name": "python",
   "nbconvert_exporter": "python",
   "pygments_lexer": "ipython2",
   "version": "2.7.13"
  }
 },
 "nbformat": 4,
 "nbformat_minor": 2
}
